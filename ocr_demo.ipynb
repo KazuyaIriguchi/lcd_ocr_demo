{
 "cells": [
  {
   "cell_type": "code",
   "execution_count": 2,
   "metadata": {},
   "outputs": [],
   "source": [
    "from PIL import Image\n",
    "import pytesseract"
   ]
  },
  {
   "cell_type": "code",
   "execution_count": 3,
   "metadata": {},
   "outputs": [],
   "source": [
    "tesseract_cmd = r\"C:\\Program Files\\Tesseract-OCR\\tesseract.exe\"\n",
    "pytesseract.pytesseract.tesseract_cmd = tesseract_cmd"
   ]
  },
  {
   "cell_type": "code",
   "execution_count": 7,
   "metadata": {},
   "outputs": [
    {
     "name": "stdout",
     "output_type": "stream",
     "text": [
      "日本国民は、正当に選挙された国会における代表者を通じて行動し、わ\n",
      "れらとわれらの子孫のために、諸国民との協和による成果と、わが国全\n",
      "士にわたつて自由のもたらす恵沢を確保し、政府の行為によつて再び戦\n",
      "当の惨褐が起ることのないやうにすることを決意し、こごここに主権が国民\n",
      "に存することを宣言し、この憲法を確定する。そもそも国政は、国民の\n",
      "厳鹿な信託によるものであつて、その権威は国民に由来し、その権力は\n",
      "国民の代表者がこれを行使し、その福利は国民がこれを享受する。ごこれ\n",
      "は人類普遍の原理であり、この憲法は、かかる原理に基くものである。\n",
      "われらは、ごこれに反する一切の憲法、法令及び語勅を排除する。\n",
      "\n",
      "日本国民は、恒久の平和を愛願し、人間相互の関係を支配する崇高な理\n",
      "想を深く目覚するのであつて、平和を愛する諸国民の公正と信義に信頼\n",
      "して、われらの安全と生存を保持しようと決意した。われらは、平和を\n",
      "維持し、専制と隷従、圧迫と偏狭を地上から永遠に除去しようと努めて\n",
      "\n"
     ]
    }
   ],
   "source": [
    "sample_img_path = \"./sample_images/nihonkoku_kenpo_zenbun_highres.png\"\n",
    "print(pytesseract.image_to_string(Image.open(sample_img_path), lang=\"jpn\"))"
   ]
  },
  {
   "cell_type": "code",
   "execution_count": 9,
   "metadata": {},
   "outputs": [
    {
     "name": "stdout",
     "output_type": "stream",
     "text": [
      "0000\n",
      "スベシャルデティ\n",
      "\n",
      "ーー ーー\n",
      "X2 STOP\n",
      "\n",
      "\n"
     ]
    }
   ],
   "source": [
    "def transcript(image, lang=\"jpn\"):\n",
    "    print(pytesseract.image_to_string(image, lang=lang))\n",
    "\n",
    "img_path_1 = \"./sample_images/brew_coffee.png\"\n",
    "transcript(Image.open(img_path_1))"
   ]
  },
  {
   "cell_type": "code",
   "execution_count": 10,
   "metadata": {},
   "outputs": [
    {
     "name": "stdout",
     "output_type": "stream",
     "text": [
      "0000\n",
      "\n",
      "エスプレッソ\n",
      "1呈hm |\n",
      "\n",
      "X2 _ STOP\n",
      "\n",
      "\n"
     ]
    }
   ],
   "source": [
    "img_path_2 = \"./sample_images/brew_espresso.png\"\n",
    "transcript(Image.open(img_path_2))"
   ]
  },
  {
   "cell_type": "code",
   "execution_count": 11,
   "metadata": {},
   "outputs": [
    {
     "name": "stdout",
     "output_type": "stream",
     "text": [
      "auro\n",
      "メニューラヲ\n",
      "エラブ\n",
      "\n",
      "\n"
     ]
    }
   ],
   "source": [
    "img_path_3 = \"./sample_images/init_display.png\"\n",
    "transcript(Image.open(img_path_3))"
   ]
  },
  {
   "cell_type": "code",
   "execution_count": null,
   "metadata": {},
   "outputs": [],
   "source": []
  }
 ],
 "metadata": {
  "kernelspec": {
   "display_name": ".venv",
   "language": "python",
   "name": "python3"
  },
  "language_info": {
   "codemirror_mode": {
    "name": "ipython",
    "version": 3
   },
   "file_extension": ".py",
   "mimetype": "text/x-python",
   "name": "python",
   "nbconvert_exporter": "python",
   "pygments_lexer": "ipython3",
   "version": "3.10.9"
  },
  "orig_nbformat": 4
 },
 "nbformat": 4,
 "nbformat_minor": 2
}
